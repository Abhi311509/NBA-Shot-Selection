{
  "nbformat": 4,
  "nbformat_minor": 0,
  "metadata": {
    "colab": {
      "provenance": [],
      "authorship_tag": "ABX9TyMAIwsgj9xtHQ7irfiYnVSn",
      "include_colab_link": true
    },
    "kernelspec": {
      "name": "python3",
      "display_name": "Python 3"
    },
    "language_info": {
      "name": "python"
    }
  },
  "cells": [
    {
      "cell_type": "markdown",
      "metadata": {
        "id": "view-in-github",
        "colab_type": "text"
      },
      "source": [
        "<a href=\"https://colab.research.google.com/github/Abhi311509/NBA-Shot-Selection/blob/main/NBA_Shot_Selection.ipynb\" target=\"_parent\"><img src=\"https://colab.research.google.com/assets/colab-badge.svg\" alt=\"Open In Colab\"/></a>"
      ]
    },
    {
      "cell_type": "markdown",
      "source": [
        "#NBA Shot Selection"
      ],
      "metadata": {
        "id": "Y_cYONiYlquF"
      }
    },
    {
      "cell_type": "markdown",
      "source": [
        "# **Business Case**: To build a shot prediction whether the player has scored or not scored."
      ],
      "metadata": {
        "id": "Lyv3muq4mNH0"
      }
    },
    {
      "cell_type": "markdown",
      "source": [
        "##Task 1:-Prepare a complete data analysis report on the given data."
      ],
      "metadata": {
        "id": "lHadUdIol0n1"
      }
    },
    {
      "cell_type": "markdown",
      "source": [
        "## **Domain Analysis**"
      ],
      "metadata": {
        "id": "Sfzc8AUUnXzg"
      }
    },
    {
      "cell_type": "markdown",
      "source": [
        "1. ***ACTION TYPE*** -  There are several different types of shot that player can take.\n",
        "\n",
        "2. ***COMBINED SHOT TYPE*** - Combination of two shots.\n",
        "\n",
        "3. ***GAME EVENT ID*** - It will be used to get the game event data.\n",
        "\n",
        "4. ***GAME ID*** - It is a unique sequence used to identify your player profile in free to play games.\n",
        "\n",
        "5. ***LAT AND LONG*** - Lat and Long will give co-ordinates to the place where game happened.\n",
        "\n",
        "6. ***LOC_X*** - X is left-right along the endline with 0 centered at the basket (negative numbers left of the basket if the basket is on the bottom of the chart).\n",
        "\n",
        "7. ***LOC_Y*** -  Y is positive towards halfcourt with 0 being at the basket (so very small negative numbers are possible, since the basket hangs just over the baseline).\n",
        "\n",
        "8. ***MINUTES REMAINING*** - Minutes left in a given overall time.\n",
        "\n",
        "9. ***PERIOD*** - A period in basketball is a block of time that a basketball game is made up of.There are four periods in an NBA game that last 12 minutes each.\n",
        "\n",
        "10. ***PLAYOFFS*** - An additional match played to decide the outcome of a contest.\n",
        "\n",
        "11. ***SEASON*** - In sports, a season is the part of one year that games of that sport are played.\n",
        "\n",
        "12. ***SECONDS REMAINING*** - Seconds left in that minute.\n",
        "\n",
        "13. ***SHOT DISTANCE*** - The shot is from the distance of an NBA three pointer (23 ft. 9 in.) Measures a team's point differential per 100 possessions.\n",
        "\n",
        "14. ***SHOT MADE FLAG*** - Whether the player took a shot or not.\n",
        "\n",
        "15. ***SHOT TYPE*** -  In basketball, a field goal is a basket scored on any shot or tap other than a free throw, worth two or three points depending on the distance of the attempt from the basket.\n",
        "\n",
        "16. ***SHOT ZONE AREA*** -  The area of the field where player is able to take the shot at goal.\n",
        "\n",
        "17. ***SHOT ZONE BASIC*** - With the use of only one hand, the shot should be released above the height of shoulder.\n",
        "\n",
        "18. ***SHOT ZONE RANGE*** - Areas where they are most comfortable and confident in making shots.\n",
        "\n",
        "19. ***TEAM ID*** - A TeamID is a unique identifier.\n",
        "\n",
        "20. ***TEAM NAME*** - It is the name of a team in which player played for in a particular season.\n",
        "\n",
        "21. ***GAME DATE*** - Date on which game happened.\n",
        "\n",
        "22. ***MATCHUP*** - A sporting contest between two teams.\n",
        "\n",
        "23. ***OPPONENT*** - Team that is competing against another team in a game.\n",
        "\n",
        "24. ***SHOT ID*** - It is a unique id given to a particular shot."
      ],
      "metadata": {
        "id": "qhfJ-PSFnlET"
      }
    },
    {
      "cell_type": "code",
      "source": [],
      "metadata": {
        "id": "BzUc9pZan0CV"
      },
      "execution_count": null,
      "outputs": []
    }
  ]
}